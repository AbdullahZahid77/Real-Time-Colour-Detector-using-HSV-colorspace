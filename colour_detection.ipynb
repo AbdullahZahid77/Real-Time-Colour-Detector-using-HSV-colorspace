{
 "cells": [
  {
   "cell_type": "markdown",
   "metadata": {},
   "source": [
    "Real Time Colour Detector using HSV colorspace"
   ]
  },
  {
   "cell_type": "code",
   "execution_count": 11,
   "metadata": {},
   "outputs": [],
   "source": [
    "import cv2\n",
    "import numpy as np\n",
    "from PIL import Image"
   ]
  },
  {
   "cell_type": "code",
   "execution_count": 12,
   "metadata": {},
   "outputs": [],
   "source": [
    "def get_hsv(color):\n",
    "    \"\"\"\n",
    "    Converts a given BGR color value to its corresponding HSV range.\n",
    "\n",
    "    Parameters:\n",
    "    color (tuple): A tuple representing the BGR color value.\n",
    "\n",
    "    Returns:\n",
    "    tuple: A tuple containing the lower and upper HSV range values.\"\"\"\n",
    "    \n",
    "    \n",
    "    bgr = np.uint8([[color]])\n",
    "    hsv = cv2.cvtColor(bgr, cv2.COLOR_BGR2HSV)\n",
    "    h = hsv[0][0][0]\n",
    "    lower = np.array([h-10, 50, 50])\n",
    "    upper = np.array([h+10, 255, 255])\n",
    "    return lower,upper\n"
   ]
  },
  {
   "cell_type": "code",
   "execution_count": 14,
   "metadata": {},
   "outputs": [],
   "source": [
    "cap = cv2.VideoCapture(0)\n",
    "while True:\n",
    "    # Capture frame-by-frame\n",
    "    ret, frame = cap.read()\n",
    "    \n",
    "    frame = cv2.flip(frame, 1)\n",
    "    \n",
    "    hsv_frame = cv2.cvtColor(frame, cv2.COLOR_BGR2HSV)\n",
    "    \n",
    "    # Define the color range for the color you want to detect\n",
    "    colour= [0, 128, 0] # green bgr value\n",
    "    lower, upper = get_hsv(colour)\n",
    "\n",
    "    mask = cv2.inRange(hsv_frame, lower, upper)\n",
    "\n",
    "    converted_mask= Image.fromarray(mask)\n",
    "\n",
    "    bounding_box= converted_mask.getbbox()\n",
    "\n",
    "    if bounding_box:\n",
    "        x1, y1, x2, y2 = bounding_box\n",
    "        cv2.rectangle(frame, (x1, y1), (x2, y2), (255, 0, 0), 2)\n",
    "\n",
    "    #Display the resulting frame\n",
    "    cv2.imshow('Color Detection', frame)\n",
    "\n",
    "    # Break the loop on 'q' key press\n",
    "    if cv2.waitKey(1) & 0xFF == ord('q'):\n",
    "        break\n",
    "\n",
    "# Release the capture and close the windows\n",
    "cap.release()\n",
    "cv2.destroyAllWindows()\n",
    "\n"
   ]
  },
  {
   "cell_type": "code",
   "execution_count": null,
   "metadata": {},
   "outputs": [],
   "source": []
  }
 ],
 "metadata": {
  "kernelspec": {
   "display_name": "Python 3",
   "language": "python",
   "name": "python3"
  },
  "language_info": {
   "codemirror_mode": {
    "name": "ipython",
    "version": 3
   },
   "file_extension": ".py",
   "mimetype": "text/x-python",
   "name": "python",
   "nbconvert_exporter": "python",
   "pygments_lexer": "ipython3",
   "version": "3.12.4"
  }
 },
 "nbformat": 4,
 "nbformat_minor": 2
}
